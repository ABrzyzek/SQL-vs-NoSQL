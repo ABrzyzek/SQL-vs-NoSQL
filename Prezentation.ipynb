{
 "cells": [
  {
   "cell_type": "markdown",
   "id": "33fd9385",
   "metadata": {
    "slideshow": {
     "slide_type": "slide"
    }
   },
   "source": [
    "# SQL vs NoSQL \n",
    "## PostgreSQL vs MongoDB\n",
    "<br>\n",
    "<br>\n",
    "Adam Brzyzek \n",
    "<br>\n",
    "<br>\n",
    "<br>\n",
    "Tech Upskill Meeting 20.02.2024"
   ]
  },
  {
   "cell_type": "markdown",
   "id": "95e5abe9",
   "metadata": {
    "slideshow": {
     "slide_type": "slide"
    }
   },
   "source": [
    "# SQL Database vs NoSQL Database"
   ]
  },
  {
   "cell_type": "markdown",
   "id": "54a65837",
   "metadata": {
    "slideshow": {
     "slide_type": "subslide"
    }
   },
   "source": [
    "# Data Storage Model\n",
    "\n",
    "SQL: Data are stored in relationed tables with fixed rows and columns.\n",
    "\n",
    "\n",
    "NoSQL:\n",
    "- Document - using JSON documents to storage data. example: MongoDB, CouchDB\n",
    "- Key-Value - data stored in key-value pairs. example: Redis, Amazon DynamoDB\n",
    "- Graph example - data are stored in nodes and edges. example: Neo4j, Amazon Neptune \n",
    "- Wide-column - organizes related data in column families rather than traditional rows. example: Cassandra, Hbase\n"
   ]
  },
  {
   "cell_type": "markdown",
   "id": "1a80c274",
   "metadata": {
    "slideshow": {
     "slide_type": "notes"
    }
   },
   "source": [
    "Document: general purpose, \n",
    "Key-value: large amounts of data with simple lookup queries, \n",
    "Wide-column: large amounts of data with predictable query patterns, \n",
    "Graph: analyzing and traversing relationships between connected data\n",
    "\n",
    "ObjectId BSON jest to typ danych 12-bajtowy, ma następujący format:\n",
    "Pierwsze cztery bajty datownik\n",
    "Kolejne trzy bajtów kodu maszynowego jest\n",
    "Natychmiast dwa bajty złożone przez identyfikator procesu (PID)\n",
    "Przez ostatnie trzy bajty liczb losowych."
   ]
  },
  {
   "cell_type": "markdown",
   "id": "7e1b798f",
   "metadata": {
    "slideshow": {
     "slide_type": "subslide"
    }
   },
   "source": [
    "# Schemas\n",
    "\n",
    "SQL: Ridge\n",
    "\n",
    "NoSQL: Flexible\n",
    "\n",
    "\n",
    "# Scaling\n",
    "\n",
    "SQL: Vertical (scale-up with a larger server)\n",
    "\n",
    "NoSQL: Horizontal (scale-out across commodity servers)"
   ]
  },
  {
   "cell_type": "markdown",
   "id": "d8120258",
   "metadata": {
    "slideshow": {
     "slide_type": "subslide"
    }
   },
   "source": [
    "# Joins\n",
    "\n",
    "SQL: Typically required\n",
    "\n",
    "NoSQL: Typically not required\n",
    "\n",
    "# Multi-Record ACID Transactions\n",
    "\n",
    "SQL: Supported\n",
    "\n",
    "NoSQL: Most do not support multi-record ACID transactions."
   ]
  },
  {
   "cell_type": "markdown",
   "id": "62184e10",
   "metadata": {
    "slideshow": {
     "slide_type": "slide"
    }
   },
   "source": [
    "# ACID"
   ]
  },
  {
   "cell_type": "markdown",
   "id": "1819be89",
   "metadata": {
    "slideshow": {
     "slide_type": ""
    }
   },
   "source": [
    "ACID is an acronym that stands for atomicity, consistency, isolation, and durability.\n",
    "\n",
    "- **Atomicity** - Atomicity ensures that all steps in a single database transaction are either fully-completed or reverted to their original state. \n",
    "- **Consistency** - Consistency ensures that every transaction in a database brings it from one valid state to another.\n",
    "- **Isolation** - Multiple transactions occur simultaneously, isolation ensures that each one is executed in a way that it’s unaware of other concurrent transactions.\n",
    "- **Durability** - Ensures that changes to your data made by successfully executed transactions will be saved, even in the event of system failure."
   ]
  },
  {
   "cell_type": "markdown",
   "id": "9ee0a39f",
   "metadata": {
    "slideshow": {
     "slide_type": "slide"
    }
   },
   "source": [
    "# BASE"
   ]
  },
  {
   "cell_type": "markdown",
   "id": "4be41073",
   "metadata": {},
   "source": [
    "BASE is an acronym basically available, soft state, and eventually consistent.\n",
    "\n",
    "- **Basically available** - The system is always available, however, this does not guarantee full data availability in every case.\n",
    "- **Soft state** - Data in the system may be temporarily inconsistent.\n",
    "- **Eventually consistent** - System reaches a consistent data state after some time."
   ]
  },
  {
   "cell_type": "markdown",
   "id": "c9abb30c",
   "metadata": {
    "slideshow": {
     "slide_type": "slide"
    }
   },
   "source": [
    "# How to start with MongoDB for free?"
   ]
  },
  {
   "cell_type": "markdown",
   "id": "c661e107",
   "metadata": {},
   "source": [
    "#### MongoDB Atlas - The fully managed service for MongoDB deployments in the cloud\n",
    "For learning and exploring MongoDB in a cloud environment. Basic configuration options:\n",
    "- 512MB of storage\n",
    "- Shared RAM\n",
    "- Upgrade to dedicated clusters for full functionality\n",
    "- No credit card required to start\n",
    "\n",
    "#### MongoDB Community -  The source-available, free-to-use, and self-managed version of MongoDB\n",
    "\n",
    "site: https://www.mongodb.com/"
   ]
  },
  {
   "cell_type": "markdown",
   "id": "4061e7d3",
   "metadata": {
    "slideshow": {
     "slide_type": "slide"
    }
   },
   "source": [
    "# Connection"
   ]
  },
  {
   "cell_type": "code",
   "execution_count": null,
   "id": "05a681bd",
   "metadata": {},
   "outputs": [],
   "source": [
    "!pip install pymongo"
   ]
  },
  {
   "cell_type": "code",
   "execution_count": 1,
   "id": "043cb507",
   "metadata": {},
   "outputs": [],
   "source": [
    "from pymongo import MongoClient"
   ]
  },
  {
   "cell_type": "code",
   "execution_count": 2,
   "id": "739220c1",
   "metadata": {},
   "outputs": [],
   "source": [
    "MONGODB_URI = \"\""
   ]
  },
  {
   "cell_type": "code",
   "execution_count": 3,
   "id": "988c8dc8",
   "metadata": {},
   "outputs": [],
   "source": [
    "def get_db():\n",
    "    client = MongoClient(MONGODB_URI)\n",
    "    return client.workshop_db"
   ]
  },
  {
   "cell_type": "code",
   "execution_count": 4,
   "id": "6e0275d6",
   "metadata": {},
   "outputs": [],
   "source": [
    "db = get_db() "
   ]
  },
  {
   "cell_type": "markdown",
   "id": "9f055e06",
   "metadata": {
    "slideshow": {
     "slide_type": "slide"
    }
   },
   "source": [
    "# CRUD pre-requirements "
   ]
  },
  {
   "cell_type": "code",
   "execution_count": 5,
   "id": "c808d3cb",
   "metadata": {},
   "outputs": [
    {
     "name": "stderr",
     "output_type": "stream",
     "text": [
      "C:\\Users\\brzyz\\anaconda3\\lib\\site-packages\\pandas\\core\\computation\\expressions.py:21: UserWarning: Pandas requires version '2.8.4' or newer of 'numexpr' (version '2.7.3' currently installed).\n",
      "  from pandas.core.computation.check import NUMEXPR_INSTALLED\n",
      "C:\\Users\\brzyz\\anaconda3\\lib\\site-packages\\pandas\\core\\arrays\\masked.py:60: UserWarning: Pandas requires version '1.3.6' or newer of 'bottleneck' (version '1.3.2' currently installed).\n",
      "  from pandas.core import (\n",
      "C:\\Users\\brzyz\\AppData\\Local\\Temp/ipykernel_21120/510612029.py:3: DeprecationWarning: \n",
      "Pyarrow will become a required dependency of pandas in the next major release of pandas (pandas 3.0),\n",
      "(to allow more performant data types, such as the Arrow string type, and better interoperability with other libraries)\n",
      "but was not found to be installed on your system.\n",
      "If this would cause problems for you,\n",
      "please provide us feedback at https://github.com/pandas-dev/pandas/issues/54466\n",
      "        \n",
      "  import pandas as pd\n"
     ]
    }
   ],
   "source": [
    "from bson.objectid import ObjectId\n",
    "from datetime import datetime\n",
    "import pandas as pd"
   ]
  },
  {
   "cell_type": "markdown",
   "id": "792c0d2d",
   "metadata": {
    "slideshow": {
     "slide_type": "subslide"
    }
   },
   "source": [
    "#### Logical operators \n",
    "\n",
    "MongoDB | PostgreSQL \n",
    ":---: | :---:\n",
    "`$and` | AND\n",
    "`$or` | OR\n",
    "`$not` | NOT"
   ]
  },
  {
   "cell_type": "markdown",
   "id": "4a703add",
   "metadata": {
    "slideshow": {
     "slide_type": "subslide"
    }
   },
   "source": [
    "#### Comparison operators \n",
    "\n",
    "MongoDB | PostgreSQL \n",
    ":---: | :---:\n",
    "`$eq` | =\n",
    "`$ne` | <>\n",
    "`$gt` | >\n",
    "`$gte` | >=\n",
    "`$lt` | <\n",
    "`$lte` | <=\n",
    "`$in` | IN\n",
    "`$nin` | NOT IN"
   ]
  },
  {
   "cell_type": "markdown",
   "id": "252c7f28",
   "metadata": {
    "slideshow": {
     "slide_type": "slide"
    }
   },
   "source": [
    "# CREATE"
   ]
  },
  {
   "cell_type": "markdown",
   "id": "24ec297b",
   "metadata": {
    "slideshow": {
     "slide_type": "subslide"
    }
   },
   "source": [
    "#### Create table/collection "
   ]
  },
  {
   "cell_type": "markdown",
   "id": "62854911",
   "metadata": {
    "slideshow": {
     "slide_type": "-"
    }
   },
   "source": [
    "PostgreSQL: `CREATE TABLE students (column1 datatype, column2 datatype, column3 datatype, ....);`\n",
    "<br>\n",
    "<br>\n",
    "MongoDB: `.create-collection(\"students\")` "
   ]
  },
  {
   "cell_type": "code",
   "execution_count": 6,
   "id": "051766b7",
   "metadata": {
    "slideshow": {
     "slide_type": "-"
    }
   },
   "outputs": [
    {
     "data": {
      "text/plain": [
       "Collection(Database(MongoClient(host=['ac-nh1busv-shard-00-01.gmfvfa0.mongodb.net:27017', 'ac-nh1busv-shard-00-00.gmfvfa0.mongodb.net:27017', 'ac-nh1busv-shard-00-02.gmfvfa0.mongodb.net:27017'], document_class=dict, tz_aware=False, connect=True, retrywrites=True, w='majority', authsource='admin', replicaset='atlas-jxx4k6-shard-0', tls=True), 'workshop_db'), 'students')"
      ]
     },
     "execution_count": 6,
     "metadata": {},
     "output_type": "execute_result"
    }
   ],
   "source": [
    "db.create_collection(\"students\")"
   ]
  },
  {
   "cell_type": "code",
   "execution_count": null,
   "id": "a298061a",
   "metadata": {
    "slideshow": {
     "slide_type": "subslide"
    }
   },
   "outputs": [],
   "source": [
    "schema = {\n",
    "    \"$jsonSchema\": {\n",
    "        \"bsonType\": \"object\",\n",
    "        \"required\": [\"_id\", \"name\", \"age\", \"grade\"],\n",
    "        \"properties\": {\n",
    "            \"name\": {\n",
    "                \"bsonType\": \"string\",\n",
    "                \"description\": \"must be a string and is required\"\n",
    "                },\n",
    "            \"age\": {\n",
    "                \"bsonType\": \"int\",\n",
    "                \"minimum\": 0,\n",
    "                \"description\": \"must be a int greater than 0 and is required\"\n",
    "            }, \n",
    "            \"grade\": {\n",
    "                \"bsonType\": \"double\",\n",
    "                \"minimum\": 0,\n",
    "                \"maximum\": 5,\n",
    "                \"description\": \"must be a double in [0, 5] and is required\"\n",
    "            }, \n",
    "            \"classes\": { \n",
    "                \"bsonType\": \"array\",\n",
    "                \"minItems\": 1,\n",
    "                \"items\": {\n",
    "                        \"bsonType\": \"string\",\n",
    "                    },\n",
    "                \"description\": \"must be a array of strings and is not required\"\n",
    "                }\n",
    "        },\n",
    "        \"additionalProperties\": True\n",
    "    }\n",
    "}"
   ]
  },
  {
   "cell_type": "code",
   "execution_count": 8,
   "id": "24b3e0b5",
   "metadata": {},
   "outputs": [
    {
     "data": {
      "text/plain": [
       "Collection(Database(MongoClient(host=['ac-nh1busv-shard-00-01.gmfvfa0.mongodb.net:27017', 'ac-nh1busv-shard-00-00.gmfvfa0.mongodb.net:27017', 'ac-nh1busv-shard-00-02.gmfvfa0.mongodb.net:27017'], document_class=dict, tz_aware=False, connect=True, retrywrites=True, w='majority', authsource='admin', replicaset='atlas-jxx4k6-shard-0', tls=True), 'workshop_db'), 'students_schema')"
      ]
     },
     "execution_count": 8,
     "metadata": {},
     "output_type": "execute_result"
    }
   ],
   "source": [
    "db.create_collection(\"students_schema\", validator=schema)"
   ]
  },
  {
   "cell_type": "markdown",
   "id": "1398fd0a",
   "metadata": {
    "slideshow": {
     "slide_type": "subslide"
    }
   },
   "source": [
    "#### Insert data to table/collection"
   ]
  },
  {
   "cell_type": "markdown",
   "id": "696848d9",
   "metadata": {
    "slideshow": {
     "slide_type": "-"
    }
   },
   "source": [
    "PostgreSQL: `INSERT INTO students (column1, column2, column3, ...) VALUES (value1, value2, value3, ...);`\n",
    "<br>\n",
    "<br>\n",
    "MongoDB: `students.insert_one({record_data})`"
   ]
  },
  {
   "cell_type": "code",
   "execution_count": 9,
   "id": "c0eba066",
   "metadata": {
    "slideshow": {
     "slide_type": "-"
    }
   },
   "outputs": [
    {
     "data": {
      "text/plain": [
       "InsertOneResult(ObjectId('65d481e726cd4e860ddbb0ee'), acknowledged=True)"
      ]
     },
     "execution_count": 9,
     "metadata": {},
     "output_type": "execute_result"
    }
   ],
   "source": [
    "db.students.insert_one({\"name\": \"Adam\",\n",
    "                        \"age\": 24,\n",
    "                        \"grade\": 3.8,\n",
    "                        \"active\": True,\n",
    "                        \"creation_date\": datetime(2022, 1, 10),\n",
    "                        \"graduation_date\": None,\n",
    "                        \"classes\": [\"mathematic\", \"geography\"],\n",
    "                        \"address\": {\"street\": \"Marszalkowska 1\",\n",
    "                                    \"city\": \"Warsaw\",\n",
    "                                    \"country_code\": \"PL\"},\n",
    "                        \"payment\": 1952.43\n",
    "                        })"
   ]
  },
  {
   "cell_type": "markdown",
   "id": "f0731f15",
   "metadata": {
    "slideshow": {
     "slide_type": "subslide"
    }
   },
   "source": [
    "PostgreSQL: `INSERT INTO table_name (column1, column2, ...) VALUES (value1, value2, ...), (value1, value2, ...), ...;`\n",
    "<br>\n",
    "<br>\n",
    "MongoDB: `students.insert_many([{}, {}, {}])`"
   ]
  },
  {
   "cell_type": "code",
   "execution_count": 10,
   "id": "e3a2b929",
   "metadata": {},
   "outputs": [
    {
     "data": {
      "text/plain": [
       "InsertManyResult([ObjectId('65d4823426cd4e860ddbb0ef'), ObjectId('65d4823426cd4e860ddbb0f0'), ObjectId('65d4823426cd4e860ddbb0f1')], acknowledged=True)"
      ]
     },
     "execution_count": 10,
     "metadata": {},
     "output_type": "execute_result"
    }
   ],
   "source": [
    "students = [{\"name\": \"Kasia\",\n",
    "             \"age\": 22,\n",
    "             \"grade\": 3.9,\n",
    "             \"active\": True,\n",
    "             \"creation_date\": datetime(2021, 10, 1),\n",
    "             \"graduation_date\": None,\n",
    "             \"classes\": [\"geography\"],\n",
    "             \"address\": {\"street\": \"Piaskowa 1\",\n",
    "                         \"city\": \"Warsaw\",\n",
    "                         \"country_code\": \"PL\"},\n",
    "             \"payment\": 1321.25\n",
    "            },\n",
    "            {\"name\": \"Marcin\",\n",
    "             \"age\": 25,\n",
    "             \"grade\": 4.5,\n",
    "             \"active\": False,\n",
    "             \"creation_date\": datetime(2020, 1, 10),\n",
    "             \"graduation_date\": datetime(2024, 1, 2),\n",
    "             \"classes\": [\"biology\", \"science\"],\n",
    "             \"address\": {\"street\": \"Konstruktorska 1\",\n",
    "                         \"city\": \"Warsaw\",\n",
    "                         \"country_code\": \"PL\"},\n",
    "             \"payment\": 2100.20\n",
    "            },\n",
    "            {\"name\": \"Anna\",\n",
    "             \"age\": 20,\n",
    "             \"grade\": 4.2,\n",
    "             \"active\": True,\n",
    "             \"creation_date\": datetime(2011, 12, 10),\n",
    "             \"graduation_date\": None,\n",
    "             \"classes\": [\"mathematic\", \"Science\"],\n",
    "             \"address\": {\"street\": \"Polna 1\",\n",
    "                         \"city\": \"Warsaw\",\n",
    "                         \"country_code\": \"PL\"},\n",
    "             \"payment\": 980.43\n",
    "            },\n",
    "]\n",
    "\n",
    "db.students.insert_many(students)"
   ]
  },
  {
   "cell_type": "markdown",
   "id": "cfd6a85e",
   "metadata": {
    "slideshow": {
     "slide_type": "slide"
    }
   },
   "source": [
    "# READ"
   ]
  },
  {
   "cell_type": "markdown",
   "id": "71104380",
   "metadata": {
    "slideshow": {
     "slide_type": "subslide"
    }
   },
   "source": [
    "PostgreSQL: `SELECT * FROM students;`\n",
    "<br>\n",
    "<br>\n",
    "MongoDB: `students.find()`"
   ]
  },
  {
   "cell_type": "code",
   "execution_count": 11,
   "id": "a804c6fd",
   "metadata": {
    "slideshow": {
     "slide_type": "-"
    }
   },
   "outputs": [
    {
     "data": {
      "text/plain": [
       "<pymongo.cursor.Cursor at 0x2330fc6cfd0>"
      ]
     },
     "execution_count": 11,
     "metadata": {},
     "output_type": "execute_result"
    }
   ],
   "source": [
    "students = db.students.find()\n",
    "students"
   ]
  },
  {
   "cell_type": "code",
   "execution_count": 12,
   "id": "2c96d59e",
   "metadata": {},
   "outputs": [
    {
     "data": {
      "text/html": [
       "<div>\n",
       "<style scoped>\n",
       "    .dataframe tbody tr th:only-of-type {\n",
       "        vertical-align: middle;\n",
       "    }\n",
       "\n",
       "    .dataframe tbody tr th {\n",
       "        vertical-align: top;\n",
       "    }\n",
       "\n",
       "    .dataframe thead th {\n",
       "        text-align: right;\n",
       "    }\n",
       "</style>\n",
       "<table border=\"1\" class=\"dataframe\">\n",
       "  <thead>\n",
       "    <tr style=\"text-align: right;\">\n",
       "      <th></th>\n",
       "      <th>_id</th>\n",
       "      <th>name</th>\n",
       "      <th>age</th>\n",
       "      <th>grade</th>\n",
       "      <th>active</th>\n",
       "      <th>creation_date</th>\n",
       "      <th>graduation_date</th>\n",
       "      <th>classes</th>\n",
       "      <th>address</th>\n",
       "      <th>payment</th>\n",
       "    </tr>\n",
       "  </thead>\n",
       "  <tbody>\n",
       "    <tr>\n",
       "      <th>0</th>\n",
       "      <td>65d481e726cd4e860ddbb0ee</td>\n",
       "      <td>Adam</td>\n",
       "      <td>24</td>\n",
       "      <td>3.8</td>\n",
       "      <td>True</td>\n",
       "      <td>2022-01-10</td>\n",
       "      <td>NaT</td>\n",
       "      <td>[mathematic, geography]</td>\n",
       "      <td>{'street': 'Marszalkowska 1', 'city': 'Warsaw'...</td>\n",
       "      <td>1952.43</td>\n",
       "    </tr>\n",
       "    <tr>\n",
       "      <th>1</th>\n",
       "      <td>65d4823426cd4e860ddbb0ef</td>\n",
       "      <td>Kasia</td>\n",
       "      <td>22</td>\n",
       "      <td>3.9</td>\n",
       "      <td>True</td>\n",
       "      <td>2021-10-01</td>\n",
       "      <td>NaT</td>\n",
       "      <td>[geography]</td>\n",
       "      <td>{'street': 'Piaskowa 1', 'city': 'Warsaw', 'co...</td>\n",
       "      <td>1321.25</td>\n",
       "    </tr>\n",
       "    <tr>\n",
       "      <th>2</th>\n",
       "      <td>65d4823426cd4e860ddbb0f0</td>\n",
       "      <td>Marcin</td>\n",
       "      <td>25</td>\n",
       "      <td>4.5</td>\n",
       "      <td>False</td>\n",
       "      <td>2020-01-10</td>\n",
       "      <td>2024-01-02</td>\n",
       "      <td>[biology, science]</td>\n",
       "      <td>{'street': 'Konstruktorska 1', 'city': 'Warsaw...</td>\n",
       "      <td>2100.20</td>\n",
       "    </tr>\n",
       "    <tr>\n",
       "      <th>3</th>\n",
       "      <td>65d4823426cd4e860ddbb0f1</td>\n",
       "      <td>Anna</td>\n",
       "      <td>20</td>\n",
       "      <td>4.2</td>\n",
       "      <td>True</td>\n",
       "      <td>2011-12-10</td>\n",
       "      <td>NaT</td>\n",
       "      <td>[mathematic, Science]</td>\n",
       "      <td>{'street': 'Polna 1', 'city': 'Warsaw', 'count...</td>\n",
       "      <td>980.43</td>\n",
       "    </tr>\n",
       "  </tbody>\n",
       "</table>\n",
       "</div>"
      ],
      "text/plain": [
       "                        _id    name  age  grade  active creation_date  \\\n",
       "0  65d481e726cd4e860ddbb0ee    Adam   24    3.8    True    2022-01-10   \n",
       "1  65d4823426cd4e860ddbb0ef   Kasia   22    3.9    True    2021-10-01   \n",
       "2  65d4823426cd4e860ddbb0f0  Marcin   25    4.5   False    2020-01-10   \n",
       "3  65d4823426cd4e860ddbb0f1    Anna   20    4.2    True    2011-12-10   \n",
       "\n",
       "  graduation_date                  classes  \\\n",
       "0             NaT  [mathematic, geography]   \n",
       "1             NaT              [geography]   \n",
       "2      2024-01-02       [biology, science]   \n",
       "3             NaT    [mathematic, Science]   \n",
       "\n",
       "                                             address  payment  \n",
       "0  {'street': 'Marszalkowska 1', 'city': 'Warsaw'...  1952.43  \n",
       "1  {'street': 'Piaskowa 1', 'city': 'Warsaw', 'co...  1321.25  \n",
       "2  {'street': 'Konstruktorska 1', 'city': 'Warsaw...  2100.20  \n",
       "3  {'street': 'Polna 1', 'city': 'Warsaw', 'count...   980.43  "
      ]
     },
     "execution_count": 12,
     "metadata": {},
     "output_type": "execute_result"
    }
   ],
   "source": [
    "pd.DataFrame(students)"
   ]
  },
  {
   "cell_type": "markdown",
   "id": "59500687",
   "metadata": {
    "slideshow": {
     "slide_type": "subslide"
    }
   },
   "source": [
    "PostgreSQL: `SELECT * students LIMIT 1;`\n",
    "<br>\n",
    "<br>\n",
    "MongoDB: `students.find_one()`"
   ]
  },
  {
   "cell_type": "code",
   "execution_count": 15,
   "id": "3ac43dd3",
   "metadata": {},
   "outputs": [
    {
     "data": {
      "text/plain": [
       "{'_id': ObjectId('65d481e726cd4e860ddbb0ee'),\n",
       " 'name': 'Adam',\n",
       " 'age': 24,\n",
       " 'grade': 3.8,\n",
       " 'active': True,\n",
       " 'creation_date': datetime.datetime(2022, 1, 10, 0, 0),\n",
       " 'graduation_date': None,\n",
       " 'classes': ['mathematic', 'geography'],\n",
       " 'address': {'street': 'Marszalkowska 1',\n",
       "  'city': 'Warsaw',\n",
       "  'country_code': 'PL'},\n",
       " 'payment': 1952.43}"
      ]
     },
     "execution_count": 15,
     "metadata": {},
     "output_type": "execute_result"
    }
   ],
   "source": [
    "student = db.students.find_one()\n",
    "student"
   ]
  },
  {
   "cell_type": "markdown",
   "id": "e7cb64cc",
   "metadata": {
    "slideshow": {
     "slide_type": "subslide"
    }
   },
   "source": [
    "PostgreSQL: `SELECT * FROM students ORDER BY name;`\n",
    "<br>\n",
    "<br>\n",
    "MongoDB: `students.find().sort({\"name\": 1})`"
   ]
  },
  {
   "cell_type": "code",
   "execution_count": 16,
   "id": "e06958c4",
   "metadata": {},
   "outputs": [
    {
     "data": {
      "text/html": [
       "<div>\n",
       "<style scoped>\n",
       "    .dataframe tbody tr th:only-of-type {\n",
       "        vertical-align: middle;\n",
       "    }\n",
       "\n",
       "    .dataframe tbody tr th {\n",
       "        vertical-align: top;\n",
       "    }\n",
       "\n",
       "    .dataframe thead th {\n",
       "        text-align: right;\n",
       "    }\n",
       "</style>\n",
       "<table border=\"1\" class=\"dataframe\">\n",
       "  <thead>\n",
       "    <tr style=\"text-align: right;\">\n",
       "      <th></th>\n",
       "      <th>_id</th>\n",
       "      <th>name</th>\n",
       "      <th>age</th>\n",
       "      <th>grade</th>\n",
       "      <th>active</th>\n",
       "      <th>creation_date</th>\n",
       "      <th>graduation_date</th>\n",
       "      <th>classes</th>\n",
       "      <th>address</th>\n",
       "      <th>payment</th>\n",
       "    </tr>\n",
       "  </thead>\n",
       "  <tbody>\n",
       "    <tr>\n",
       "      <th>0</th>\n",
       "      <td>65d481e726cd4e860ddbb0ee</td>\n",
       "      <td>Adam</td>\n",
       "      <td>24</td>\n",
       "      <td>3.8</td>\n",
       "      <td>True</td>\n",
       "      <td>2022-01-10</td>\n",
       "      <td>NaT</td>\n",
       "      <td>[mathematic, geography]</td>\n",
       "      <td>{'street': 'Marszalkowska 1', 'city': 'Warsaw'...</td>\n",
       "      <td>1952.43</td>\n",
       "    </tr>\n",
       "    <tr>\n",
       "      <th>1</th>\n",
       "      <td>65d4823426cd4e860ddbb0f1</td>\n",
       "      <td>Anna</td>\n",
       "      <td>20</td>\n",
       "      <td>4.2</td>\n",
       "      <td>True</td>\n",
       "      <td>2011-12-10</td>\n",
       "      <td>NaT</td>\n",
       "      <td>[mathematic, Science]</td>\n",
       "      <td>{'street': 'Polna 1', 'city': 'Warsaw', 'count...</td>\n",
       "      <td>980.43</td>\n",
       "    </tr>\n",
       "    <tr>\n",
       "      <th>2</th>\n",
       "      <td>65d4823426cd4e860ddbb0ef</td>\n",
       "      <td>Kasia</td>\n",
       "      <td>22</td>\n",
       "      <td>3.9</td>\n",
       "      <td>True</td>\n",
       "      <td>2021-10-01</td>\n",
       "      <td>NaT</td>\n",
       "      <td>[geography]</td>\n",
       "      <td>{'street': 'Piaskowa 1', 'city': 'Warsaw', 'co...</td>\n",
       "      <td>1321.25</td>\n",
       "    </tr>\n",
       "    <tr>\n",
       "      <th>3</th>\n",
       "      <td>65d4823426cd4e860ddbb0f0</td>\n",
       "      <td>Marcin</td>\n",
       "      <td>25</td>\n",
       "      <td>4.5</td>\n",
       "      <td>False</td>\n",
       "      <td>2020-01-10</td>\n",
       "      <td>2024-01-02</td>\n",
       "      <td>[biology, science]</td>\n",
       "      <td>{'street': 'Konstruktorska 1', 'city': 'Warsaw...</td>\n",
       "      <td>2100.20</td>\n",
       "    </tr>\n",
       "  </tbody>\n",
       "</table>\n",
       "</div>"
      ],
      "text/plain": [
       "                        _id    name  age  grade  active creation_date  \\\n",
       "0  65d481e726cd4e860ddbb0ee    Adam   24    3.8    True    2022-01-10   \n",
       "1  65d4823426cd4e860ddbb0f1    Anna   20    4.2    True    2011-12-10   \n",
       "2  65d4823426cd4e860ddbb0ef   Kasia   22    3.9    True    2021-10-01   \n",
       "3  65d4823426cd4e860ddbb0f0  Marcin   25    4.5   False    2020-01-10   \n",
       "\n",
       "  graduation_date                  classes  \\\n",
       "0             NaT  [mathematic, geography]   \n",
       "1             NaT    [mathematic, Science]   \n",
       "2             NaT              [geography]   \n",
       "3      2024-01-02       [biology, science]   \n",
       "\n",
       "                                             address  payment  \n",
       "0  {'street': 'Marszalkowska 1', 'city': 'Warsaw'...  1952.43  \n",
       "1  {'street': 'Polna 1', 'city': 'Warsaw', 'count...   980.43  \n",
       "2  {'street': 'Piaskowa 1', 'city': 'Warsaw', 'co...  1321.25  \n",
       "3  {'street': 'Konstruktorska 1', 'city': 'Warsaw...  2100.20  "
      ]
     },
     "execution_count": 16,
     "metadata": {},
     "output_type": "execute_result"
    }
   ],
   "source": [
    "students = db.students.find().sort({\"name\": 1})\n",
    "pd.DataFrame(students)"
   ]
  },
  {
   "cell_type": "markdown",
   "id": "0a0a0b31",
   "metadata": {
    "slideshow": {
     "slide_type": "subslide"
    }
   },
   "source": [
    "PostgreSQL: `SELECT * FROM students ORDER BY grade DESC LIMIT 2;`\n",
    "<br>\n",
    "<br>\n",
    "MongoDB: `students.find().sort({\"grade\": -1}).limit(2)`"
   ]
  },
  {
   "cell_type": "code",
   "execution_count": 17,
   "id": "13076d3c",
   "metadata": {},
   "outputs": [
    {
     "data": {
      "text/html": [
       "<div>\n",
       "<style scoped>\n",
       "    .dataframe tbody tr th:only-of-type {\n",
       "        vertical-align: middle;\n",
       "    }\n",
       "\n",
       "    .dataframe tbody tr th {\n",
       "        vertical-align: top;\n",
       "    }\n",
       "\n",
       "    .dataframe thead th {\n",
       "        text-align: right;\n",
       "    }\n",
       "</style>\n",
       "<table border=\"1\" class=\"dataframe\">\n",
       "  <thead>\n",
       "    <tr style=\"text-align: right;\">\n",
       "      <th></th>\n",
       "      <th>_id</th>\n",
       "      <th>name</th>\n",
       "      <th>age</th>\n",
       "      <th>grade</th>\n",
       "      <th>active</th>\n",
       "      <th>creation_date</th>\n",
       "      <th>graduation_date</th>\n",
       "      <th>classes</th>\n",
       "      <th>address</th>\n",
       "      <th>payment</th>\n",
       "    </tr>\n",
       "  </thead>\n",
       "  <tbody>\n",
       "    <tr>\n",
       "      <th>0</th>\n",
       "      <td>65d4823426cd4e860ddbb0f0</td>\n",
       "      <td>Marcin</td>\n",
       "      <td>25</td>\n",
       "      <td>4.5</td>\n",
       "      <td>False</td>\n",
       "      <td>2020-01-10</td>\n",
       "      <td>2024-01-02</td>\n",
       "      <td>[biology, science]</td>\n",
       "      <td>{'street': 'Konstruktorska 1', 'city': 'Warsaw...</td>\n",
       "      <td>2100.20</td>\n",
       "    </tr>\n",
       "    <tr>\n",
       "      <th>1</th>\n",
       "      <td>65d4823426cd4e860ddbb0f1</td>\n",
       "      <td>Anna</td>\n",
       "      <td>20</td>\n",
       "      <td>4.2</td>\n",
       "      <td>True</td>\n",
       "      <td>2011-12-10</td>\n",
       "      <td>NaT</td>\n",
       "      <td>[mathematic, Science]</td>\n",
       "      <td>{'street': 'Polna 1', 'city': 'Warsaw', 'count...</td>\n",
       "      <td>980.43</td>\n",
       "    </tr>\n",
       "  </tbody>\n",
       "</table>\n",
       "</div>"
      ],
      "text/plain": [
       "                        _id    name  age  grade  active creation_date  \\\n",
       "0  65d4823426cd4e860ddbb0f0  Marcin   25    4.5   False    2020-01-10   \n",
       "1  65d4823426cd4e860ddbb0f1    Anna   20    4.2    True    2011-12-10   \n",
       "\n",
       "  graduation_date                classes  \\\n",
       "0      2024-01-02     [biology, science]   \n",
       "1             NaT  [mathematic, Science]   \n",
       "\n",
       "                                             address  payment  \n",
       "0  {'street': 'Konstruktorska 1', 'city': 'Warsaw...  2100.20  \n",
       "1  {'street': 'Polna 1', 'city': 'Warsaw', 'count...   980.43  "
      ]
     },
     "execution_count": 17,
     "metadata": {},
     "output_type": "execute_result"
    }
   ],
   "source": [
    "students = db.students.find().sort({\"grade\": -1}).limit(2)\n",
    "pd.DataFrame(students)"
   ]
  },
  {
   "cell_type": "markdown",
   "id": "90e8d168",
   "metadata": {
    "slideshow": {
     "slide_type": "subslide"
    }
   },
   "source": [
    "PostgreSQL: `SELECT * FROM students WHERE active = TRUE;`\n",
    "<br>\n",
    "<br>\n",
    "MongoDB: `students.find({\"active\": True})`"
   ]
  },
  {
   "cell_type": "code",
   "execution_count": 18,
   "id": "21385e4a",
   "metadata": {},
   "outputs": [
    {
     "data": {
      "text/html": [
       "<div>\n",
       "<style scoped>\n",
       "    .dataframe tbody tr th:only-of-type {\n",
       "        vertical-align: middle;\n",
       "    }\n",
       "\n",
       "    .dataframe tbody tr th {\n",
       "        vertical-align: top;\n",
       "    }\n",
       "\n",
       "    .dataframe thead th {\n",
       "        text-align: right;\n",
       "    }\n",
       "</style>\n",
       "<table border=\"1\" class=\"dataframe\">\n",
       "  <thead>\n",
       "    <tr style=\"text-align: right;\">\n",
       "      <th></th>\n",
       "      <th>_id</th>\n",
       "      <th>name</th>\n",
       "      <th>age</th>\n",
       "      <th>grade</th>\n",
       "      <th>active</th>\n",
       "      <th>creation_date</th>\n",
       "      <th>graduation_date</th>\n",
       "      <th>classes</th>\n",
       "      <th>address</th>\n",
       "      <th>payment</th>\n",
       "    </tr>\n",
       "  </thead>\n",
       "  <tbody>\n",
       "    <tr>\n",
       "      <th>0</th>\n",
       "      <td>65d481e726cd4e860ddbb0ee</td>\n",
       "      <td>Adam</td>\n",
       "      <td>24</td>\n",
       "      <td>3.8</td>\n",
       "      <td>True</td>\n",
       "      <td>2022-01-10</td>\n",
       "      <td>None</td>\n",
       "      <td>[mathematic, geography]</td>\n",
       "      <td>{'street': 'Marszalkowska 1', 'city': 'Warsaw'...</td>\n",
       "      <td>1952.43</td>\n",
       "    </tr>\n",
       "    <tr>\n",
       "      <th>1</th>\n",
       "      <td>65d4823426cd4e860ddbb0ef</td>\n",
       "      <td>Kasia</td>\n",
       "      <td>22</td>\n",
       "      <td>3.9</td>\n",
       "      <td>True</td>\n",
       "      <td>2021-10-01</td>\n",
       "      <td>None</td>\n",
       "      <td>[geography]</td>\n",
       "      <td>{'street': 'Piaskowa 1', 'city': 'Warsaw', 'co...</td>\n",
       "      <td>1321.25</td>\n",
       "    </tr>\n",
       "    <tr>\n",
       "      <th>2</th>\n",
       "      <td>65d4823426cd4e860ddbb0f1</td>\n",
       "      <td>Anna</td>\n",
       "      <td>20</td>\n",
       "      <td>4.2</td>\n",
       "      <td>True</td>\n",
       "      <td>2011-12-10</td>\n",
       "      <td>None</td>\n",
       "      <td>[mathematic, Science]</td>\n",
       "      <td>{'street': 'Polna 1', 'city': 'Warsaw', 'count...</td>\n",
       "      <td>980.43</td>\n",
       "    </tr>\n",
       "  </tbody>\n",
       "</table>\n",
       "</div>"
      ],
      "text/plain": [
       "                        _id   name  age  grade  active creation_date  \\\n",
       "0  65d481e726cd4e860ddbb0ee   Adam   24    3.8    True    2022-01-10   \n",
       "1  65d4823426cd4e860ddbb0ef  Kasia   22    3.9    True    2021-10-01   \n",
       "2  65d4823426cd4e860ddbb0f1   Anna   20    4.2    True    2011-12-10   \n",
       "\n",
       "  graduation_date                  classes  \\\n",
       "0            None  [mathematic, geography]   \n",
       "1            None              [geography]   \n",
       "2            None    [mathematic, Science]   \n",
       "\n",
       "                                             address  payment  \n",
       "0  {'street': 'Marszalkowska 1', 'city': 'Warsaw'...  1952.43  \n",
       "1  {'street': 'Piaskowa 1', 'city': 'Warsaw', 'co...  1321.25  \n",
       "2  {'street': 'Polna 1', 'city': 'Warsaw', 'count...   980.43  "
      ]
     },
     "execution_count": 18,
     "metadata": {},
     "output_type": "execute_result"
    }
   ],
   "source": [
    "students = db.students.find({\"active\": True})\n",
    "pd.DataFrame(students)"
   ]
  },
  {
   "cell_type": "markdown",
   "id": "c06625d8",
   "metadata": {
    "slideshow": {
     "slide_type": "subslide"
    }
   },
   "source": [
    "PostgreSQL: `SELECT * FROM students WHERE active = TRUE and grade > 4;`\n",
    "<br>\n",
    "<br>\n",
    "MongoDB: `students.find({\"active\": True, \"grade\": {\"$gt\": 4}})`"
   ]
  },
  {
   "cell_type": "code",
   "execution_count": 19,
   "id": "e3d4145c",
   "metadata": {},
   "outputs": [
    {
     "data": {
      "text/html": [
       "<div>\n",
       "<style scoped>\n",
       "    .dataframe tbody tr th:only-of-type {\n",
       "        vertical-align: middle;\n",
       "    }\n",
       "\n",
       "    .dataframe tbody tr th {\n",
       "        vertical-align: top;\n",
       "    }\n",
       "\n",
       "    .dataframe thead th {\n",
       "        text-align: right;\n",
       "    }\n",
       "</style>\n",
       "<table border=\"1\" class=\"dataframe\">\n",
       "  <thead>\n",
       "    <tr style=\"text-align: right;\">\n",
       "      <th></th>\n",
       "      <th>_id</th>\n",
       "      <th>name</th>\n",
       "      <th>age</th>\n",
       "      <th>grade</th>\n",
       "      <th>active</th>\n",
       "      <th>creation_date</th>\n",
       "      <th>graduation_date</th>\n",
       "      <th>classes</th>\n",
       "      <th>address</th>\n",
       "      <th>payment</th>\n",
       "    </tr>\n",
       "  </thead>\n",
       "  <tbody>\n",
       "    <tr>\n",
       "      <th>0</th>\n",
       "      <td>65d4823426cd4e860ddbb0f1</td>\n",
       "      <td>Anna</td>\n",
       "      <td>20</td>\n",
       "      <td>4.2</td>\n",
       "      <td>True</td>\n",
       "      <td>2011-12-10</td>\n",
       "      <td>None</td>\n",
       "      <td>[mathematic, Science]</td>\n",
       "      <td>{'street': 'Polna 1', 'city': 'Warsaw', 'count...</td>\n",
       "      <td>980.43</td>\n",
       "    </tr>\n",
       "  </tbody>\n",
       "</table>\n",
       "</div>"
      ],
      "text/plain": [
       "                        _id  name  age  grade  active creation_date  \\\n",
       "0  65d4823426cd4e860ddbb0f1  Anna   20    4.2    True    2011-12-10   \n",
       "\n",
       "  graduation_date                classes  \\\n",
       "0            None  [mathematic, Science]   \n",
       "\n",
       "                                             address  payment  \n",
       "0  {'street': 'Polna 1', 'city': 'Warsaw', 'count...   980.43  "
      ]
     },
     "execution_count": 19,
     "metadata": {},
     "output_type": "execute_result"
    }
   ],
   "source": [
    "students = db.students.find({\"active\": True, \"grade\": {\"$gt\": 4}})\n",
    "pd.DataFrame(students)"
   ]
  },
  {
   "cell_type": "markdown",
   "id": "37084a21",
   "metadata": {
    "slideshow": {
     "slide_type": "subslide"
    }
   },
   "source": [
    "PostgreSQL: `SELECT name, grade FROM students WHERE active = TRUE;`\n",
    "<br>\n",
    "<br>\n",
    "MongoDB: `students.find({\"active\": True}, {\"_id\": 0 ,\"name\": 1, \"grade\": True})`"
   ]
  },
  {
   "cell_type": "code",
   "execution_count": 20,
   "id": "c65a8233",
   "metadata": {},
   "outputs": [
    {
     "data": {
      "text/html": [
       "<div>\n",
       "<style scoped>\n",
       "    .dataframe tbody tr th:only-of-type {\n",
       "        vertical-align: middle;\n",
       "    }\n",
       "\n",
       "    .dataframe tbody tr th {\n",
       "        vertical-align: top;\n",
       "    }\n",
       "\n",
       "    .dataframe thead th {\n",
       "        text-align: right;\n",
       "    }\n",
       "</style>\n",
       "<table border=\"1\" class=\"dataframe\">\n",
       "  <thead>\n",
       "    <tr style=\"text-align: right;\">\n",
       "      <th></th>\n",
       "      <th>name</th>\n",
       "      <th>grade</th>\n",
       "    </tr>\n",
       "  </thead>\n",
       "  <tbody>\n",
       "    <tr>\n",
       "      <th>0</th>\n",
       "      <td>Adam</td>\n",
       "      <td>3.8</td>\n",
       "    </tr>\n",
       "    <tr>\n",
       "      <th>1</th>\n",
       "      <td>Kasia</td>\n",
       "      <td>3.9</td>\n",
       "    </tr>\n",
       "    <tr>\n",
       "      <th>2</th>\n",
       "      <td>Anna</td>\n",
       "      <td>4.2</td>\n",
       "    </tr>\n",
       "  </tbody>\n",
       "</table>\n",
       "</div>"
      ],
      "text/plain": [
       "    name  grade\n",
       "0   Adam    3.8\n",
       "1  Kasia    3.9\n",
       "2   Anna    4.2"
      ]
     },
     "execution_count": 20,
     "metadata": {},
     "output_type": "execute_result"
    }
   ],
   "source": [
    "students = db.students.find({\"active\": True}, {\"_id\": 0 ,\"name\": 1, \"grade\": True})\n",
    "pd.DataFrame(students)"
   ]
  },
  {
   "cell_type": "markdown",
   "id": "36c5cd00",
   "metadata": {
    "slideshow": {
     "slide_type": "subslide"
    }
   },
   "source": [
    "PostgreSQL: `SELECT name, age FROM students WHERE name like 'A%';`\n",
    "<br>\n",
    "<br>\n",
    "MongoDB: `students.find({\"name\": {\"$regex\":\"^A\"}}, {\"_id\": 0 ,\"name\": 1, \"age\": 1})`"
   ]
  },
  {
   "cell_type": "code",
   "execution_count": 21,
   "id": "5c76b3dc",
   "metadata": {},
   "outputs": [
    {
     "data": {
      "text/html": [
       "<div>\n",
       "<style scoped>\n",
       "    .dataframe tbody tr th:only-of-type {\n",
       "        vertical-align: middle;\n",
       "    }\n",
       "\n",
       "    .dataframe tbody tr th {\n",
       "        vertical-align: top;\n",
       "    }\n",
       "\n",
       "    .dataframe thead th {\n",
       "        text-align: right;\n",
       "    }\n",
       "</style>\n",
       "<table border=\"1\" class=\"dataframe\">\n",
       "  <thead>\n",
       "    <tr style=\"text-align: right;\">\n",
       "      <th></th>\n",
       "      <th>name</th>\n",
       "      <th>age</th>\n",
       "    </tr>\n",
       "  </thead>\n",
       "  <tbody>\n",
       "    <tr>\n",
       "      <th>0</th>\n",
       "      <td>Adam</td>\n",
       "      <td>24</td>\n",
       "    </tr>\n",
       "    <tr>\n",
       "      <th>1</th>\n",
       "      <td>Anna</td>\n",
       "      <td>20</td>\n",
       "    </tr>\n",
       "  </tbody>\n",
       "</table>\n",
       "</div>"
      ],
      "text/plain": [
       "   name  age\n",
       "0  Adam   24\n",
       "1  Anna   20"
      ]
     },
     "execution_count": 21,
     "metadata": {},
     "output_type": "execute_result"
    }
   ],
   "source": [
    "students = db.students.find({\"name\": {\"$regex\":\"^A\"}}, {\"_id\": 0 ,\"name\": 1, \"age\": 1})\n",
    "pd.DataFrame(students)"
   ]
  },
  {
   "cell_type": "markdown",
   "id": "591baf42",
   "metadata": {
    "slideshow": {
     "slide_type": "subslide"
    }
   },
   "source": [
    "PostgreSQL: `SELECT active, COUNT(*) FROM students GROUP BY active;`\n",
    "<br>\n",
    "<br>\n",
    "MongoDB: `students.aggregate([{\"$group\": {\"_id\": \"$active\", \"number_of_students\": {\"$sum\": 1}}}])`"
   ]
  },
  {
   "cell_type": "code",
   "execution_count": 22,
   "id": "2a5e10aa",
   "metadata": {},
   "outputs": [
    {
     "data": {
      "text/html": [
       "<div>\n",
       "<style scoped>\n",
       "    .dataframe tbody tr th:only-of-type {\n",
       "        vertical-align: middle;\n",
       "    }\n",
       "\n",
       "    .dataframe tbody tr th {\n",
       "        vertical-align: top;\n",
       "    }\n",
       "\n",
       "    .dataframe thead th {\n",
       "        text-align: right;\n",
       "    }\n",
       "</style>\n",
       "<table border=\"1\" class=\"dataframe\">\n",
       "  <thead>\n",
       "    <tr style=\"text-align: right;\">\n",
       "      <th></th>\n",
       "      <th>_id</th>\n",
       "      <th>number_of_students</th>\n",
       "    </tr>\n",
       "  </thead>\n",
       "  <tbody>\n",
       "    <tr>\n",
       "      <th>0</th>\n",
       "      <td>False</td>\n",
       "      <td>1</td>\n",
       "    </tr>\n",
       "    <tr>\n",
       "      <th>1</th>\n",
       "      <td>True</td>\n",
       "      <td>3</td>\n",
       "    </tr>\n",
       "  </tbody>\n",
       "</table>\n",
       "</div>"
      ],
      "text/plain": [
       "     _id  number_of_students\n",
       "0  False                   1\n",
       "1   True                   3"
      ]
     },
     "execution_count": 22,
     "metadata": {},
     "output_type": "execute_result"
    }
   ],
   "source": [
    "students=db.students.aggregate([{\"$group\": {\"_id\": \"$active\", \"number_of_students\": {\"$sum\": 1}}}])\n",
    "pd.DataFrame(students)"
   ]
  },
  {
   "cell_type": "markdown",
   "id": "55fcce7c",
   "metadata": {
    "slideshow": {
     "slide_type": "subslide"
    }
   },
   "source": [
    "PostgreSQL: `SELECT active, SUM(payment) FROM students GROUP BY active;`\n",
    "<br>\n",
    "<br>\n",
    "MongoDB: `students.aggregate([{\"$group\": {\"_id\": \"$active\",  \"total_fee\": {\"$sum\": \"$payment\"}}}])`"
   ]
  },
  {
   "cell_type": "code",
   "execution_count": 23,
   "id": "7c12a775",
   "metadata": {},
   "outputs": [
    {
     "data": {
      "text/html": [
       "<div>\n",
       "<style scoped>\n",
       "    .dataframe tbody tr th:only-of-type {\n",
       "        vertical-align: middle;\n",
       "    }\n",
       "\n",
       "    .dataframe tbody tr th {\n",
       "        vertical-align: top;\n",
       "    }\n",
       "\n",
       "    .dataframe thead th {\n",
       "        text-align: right;\n",
       "    }\n",
       "</style>\n",
       "<table border=\"1\" class=\"dataframe\">\n",
       "  <thead>\n",
       "    <tr style=\"text-align: right;\">\n",
       "      <th></th>\n",
       "      <th>_id</th>\n",
       "      <th>total_fee</th>\n",
       "    </tr>\n",
       "  </thead>\n",
       "  <tbody>\n",
       "    <tr>\n",
       "      <th>0</th>\n",
       "      <td>True</td>\n",
       "      <td>4254.11</td>\n",
       "    </tr>\n",
       "    <tr>\n",
       "      <th>1</th>\n",
       "      <td>False</td>\n",
       "      <td>2100.20</td>\n",
       "    </tr>\n",
       "  </tbody>\n",
       "</table>\n",
       "</div>"
      ],
      "text/plain": [
       "     _id  total_fee\n",
       "0   True    4254.11\n",
       "1  False    2100.20"
      ]
     },
     "execution_count": 23,
     "metadata": {},
     "output_type": "execute_result"
    }
   ],
   "source": [
    "students=db.students.aggregate([{\"$group\": {\"_id\": \"$active\", \"total_fee\": {\"$sum\": \"$payment\"}}}])\n",
    "pd.DataFrame(students)"
   ]
  },
  {
   "cell_type": "code",
   "execution_count": 24,
   "id": "399dafe8",
   "metadata": {},
   "outputs": [
    {
     "data": {
      "text/html": [
       "<div>\n",
       "<style scoped>\n",
       "    .dataframe tbody tr th:only-of-type {\n",
       "        vertical-align: middle;\n",
       "    }\n",
       "\n",
       "    .dataframe tbody tr th {\n",
       "        vertical-align: top;\n",
       "    }\n",
       "\n",
       "    .dataframe thead th {\n",
       "        text-align: right;\n",
       "    }\n",
       "</style>\n",
       "<table border=\"1\" class=\"dataframe\">\n",
       "  <thead>\n",
       "    <tr style=\"text-align: right;\">\n",
       "      <th></th>\n",
       "      <th>_id</th>\n",
       "      <th>total_fee_in_USD</th>\n",
       "    </tr>\n",
       "  </thead>\n",
       "  <tbody>\n",
       "    <tr>\n",
       "      <th>0</th>\n",
       "      <td>True</td>\n",
       "      <td>1063.5275</td>\n",
       "    </tr>\n",
       "    <tr>\n",
       "      <th>1</th>\n",
       "      <td>False</td>\n",
       "      <td>525.0500</td>\n",
       "    </tr>\n",
       "  </tbody>\n",
       "</table>\n",
       "</div>"
      ],
      "text/plain": [
       "     _id  total_fee_in_USD\n",
       "0   True         1063.5275\n",
       "1  False          525.0500"
      ]
     },
     "execution_count": 24,
     "metadata": {},
     "output_type": "execute_result"
    }
   ],
   "source": [
    "rate_to_USD = 0.25\n",
    "students=db.students.aggregate([{\"$group\": {\n",
    "    \"_id\": \"$active\",\n",
    "    \"total_fee_in_USD\": {\"$sum\": {\"$multiply\": [\"$payment\", rate_to_USD]}}\n",
    "}}])\n",
    "pd.DataFrame(students)"
   ]
  },
  {
   "cell_type": "markdown",
   "id": "3138e00d",
   "metadata": {
    "slideshow": {
     "slide_type": "slide"
    }
   },
   "source": [
    "# UPDATE"
   ]
  },
  {
   "cell_type": "markdown",
   "id": "cd83ac01",
   "metadata": {
    "slideshow": {
     "slide_type": "subslide"
    }
   },
   "source": [
    "PostgreSQL: `UPDATE students SET active = TRUE WHERE name = 'Marcin';`\n",
    "<br>\n",
    "<br>\n",
    "MongoDB: `students.update_one({\"name\": \"Marcin\"}, {\"$set\": {\"active\": True}})`"
   ]
  },
  {
   "cell_type": "code",
   "execution_count": 25,
   "id": "f4f8ad77",
   "metadata": {},
   "outputs": [
    {
     "data": {
      "text/plain": [
       "UpdateResult({'n': 1, 'electionId': ObjectId('7fffffff0000000000000288'), 'opTime': {'ts': Timestamp(1708426517, 1000), 't': 648}, 'nModified': 1, 'ok': 1.0, '$clusterTime': {'clusterTime': Timestamp(1708426517, 1000), 'signature': {'hash': b'\\xd3<\\x92\\x86\\xad\\xd0\\x9e\"&\\xb2\\xc5\\x91\\x05\\x89\\xf3\\xd0\\x9d\\xbc\\xbb\\xd9', 'keyId': 7302022492913139713}}, 'operationTime': Timestamp(1708426517, 1000), 'updatedExisting': True}, acknowledged=True)"
      ]
     },
     "execution_count": 25,
     "metadata": {},
     "output_type": "execute_result"
    }
   ],
   "source": [
    "db.students.update_one({\"name\": \"Marcin\"}, {\"$set\": {\"active\": True}})"
   ]
  },
  {
   "cell_type": "markdown",
   "id": "c6bc1eca",
   "metadata": {
    "slideshow": {
     "slide_type": "subslide"
    }
   },
   "source": [
    "PostgreSQL: `UPDATE students SET active = False WHERE _id = id_number;`\n",
    "<br>\n",
    "<br>\n",
    "MongoDB: `students.update_one({\"_id\": ObjectId(id_number)}, {\"$set\": {\"active\": False}})`"
   ]
  },
  {
   "cell_type": "code",
   "execution_count": 26,
   "id": "0b47f8f5",
   "metadata": {},
   "outputs": [
    {
     "data": {
      "text/plain": [
       "UpdateResult({'n': 1, 'electionId': ObjectId('7fffffff0000000000000288'), 'opTime': {'ts': Timestamp(1708426557, 45), 't': 648}, 'nModified': 1, 'ok': 1.0, '$clusterTime': {'clusterTime': Timestamp(1708426557, 45), 'signature': {'hash': b'\\xcf9\\xab\\xbfDLy(Ux\\xe4\\xc5\\xc2\\x1b~\\xb2<3\\xa2\\xdc', 'keyId': 7302022492913139713}}, 'operationTime': Timestamp(1708426557, 45), 'updatedExisting': True}, acknowledged=True)"
      ]
     },
     "execution_count": 26,
     "metadata": {},
     "output_type": "execute_result"
    }
   ],
   "source": [
    "db.students.update_one({\"_id\": ObjectId(\"65d481e726cd4e860ddbb0ee\")}, {\"$set\": {\"active\": False}})"
   ]
  },
  {
   "cell_type": "markdown",
   "id": "72c3d5ad",
   "metadata": {
    "slideshow": {
     "slide_type": "subslide"
    }
   },
   "source": [
    "PostgreSQL: `UPDATE students SET active = NULL WHERE _id = id_number;`\n",
    "<br>\n",
    "<br>\n",
    "MongoDB: `students.update_one({\"_id\": ObjectId(id_number)}, {\"$unset\": {\"active\": \"\"}})`"
   ]
  },
  {
   "cell_type": "code",
   "execution_count": 27,
   "id": "1781b2ab",
   "metadata": {},
   "outputs": [
    {
     "data": {
      "text/plain": [
       "UpdateResult({'n': 1, 'electionId': ObjectId('7fffffff0000000000000288'), 'opTime': {'ts': Timestamp(1708426613, 32), 't': 648}, 'nModified': 1, 'ok': 1.0, '$clusterTime': {'clusterTime': Timestamp(1708426613, 32), 'signature': {'hash': b'\\xae\\xd8o\\x18C?\\x97\\x85y\\xe9f\\xff\\xc6\\xca\\xd3\\xd9\\xa9\\x98\\x11#', 'keyId': 7302022492913139713}}, 'operationTime': Timestamp(1708426613, 32), 'updatedExisting': True}, acknowledged=True)"
      ]
     },
     "execution_count": 27,
     "metadata": {},
     "output_type": "execute_result"
    }
   ],
   "source": [
    "db.students.update_one({\"_id\": ObjectId(\"65d481e726cd4e860ddbb0ee\")}, {\"$unset\": {\"active\": \"\"}})"
   ]
  },
  {
   "cell_type": "markdown",
   "id": "59a609f1",
   "metadata": {
    "slideshow": {
     "slide_type": "subslide"
    }
   },
   "source": [
    "PostgreSQL: `UPDATE students SET active = NULL;`\n",
    "<br>\n",
    "<br>\n",
    "MongoDB: `students.update_many({}, {\"$unset\": {\"active\": \"\"}})`"
   ]
  },
  {
   "cell_type": "code",
   "execution_count": 28,
   "id": "70006b06",
   "metadata": {},
   "outputs": [
    {
     "data": {
      "text/plain": [
       "UpdateResult({'n': 4, 'electionId': ObjectId('7fffffff0000000000000288'), 'opTime': {'ts': Timestamp(1708426789, 28), 't': 648}, 'nModified': 3, 'ok': 1.0, '$clusterTime': {'clusterTime': Timestamp(1708426789, 28), 'signature': {'hash': b'Tv&\\xc1i`\\x0bo\\xb5/&|\".\\x92\\xa0\\xaf\\x88\\xf4)', 'keyId': 7302022492913139713}}, 'operationTime': Timestamp(1708426789, 28), 'updatedExisting': True}, acknowledged=True)"
      ]
     },
     "execution_count": 28,
     "metadata": {},
     "output_type": "execute_result"
    }
   ],
   "source": [
    "db.students.update_many({}, {\"$unset\": {\"active\": \"\"}})"
   ]
  },
  {
   "cell_type": "markdown",
   "id": "392e0721",
   "metadata": {
    "slideshow": {
     "slide_type": "subslide"
    }
   },
   "source": [
    "PostgreSQL: `UPDATE students SET active = TRUE WHERE creation_date >= '2022-01-01';`\n",
    "<br>\n",
    "<br>\n",
    "MongoDB: `students.update_many({\"creation_date\": {\"$gte\": datetime(2022, 1, 1)}}, {\"$set\": {\"active\": True}})`"
   ]
  },
  {
   "cell_type": "code",
   "execution_count": 29,
   "id": "8b771ec0",
   "metadata": {},
   "outputs": [
    {
     "data": {
      "text/plain": [
       "UpdateResult({'n': 1, 'electionId': ObjectId('7fffffff0000000000000288'), 'opTime': {'ts': Timestamp(1708426829, 11), 't': 648}, 'nModified': 1, 'ok': 1.0, '$clusterTime': {'clusterTime': Timestamp(1708426829, 11), 'signature': {'hash': b'<\\x15\\xea\\xc1\\xd4\\xae\\x8b\\xdfB\\xe4\\x98\\xca\\xd8\\n,\\x08\\x03u\\x84\\xc2', 'keyId': 7302022492913139713}}, 'operationTime': Timestamp(1708426829, 11), 'updatedExisting': True}, acknowledged=True)"
      ]
     },
     "execution_count": 29,
     "metadata": {},
     "output_type": "execute_result"
    }
   ],
   "source": [
    "db.students.update_many({\"creation_date\": {\"$gte\": datetime(2022, 1, 1)}}, {\"$set\": {\"active\": True}})"
   ]
  },
  {
   "cell_type": "markdown",
   "id": "48255f6f",
   "metadata": {
    "slideshow": {
     "slide_type": "subslide"
    }
   },
   "source": [
    "PostgreSQL: `UPDATE students SET active = FALSE WHERE active is NULL;`\n",
    "<br>\n",
    "<br>\n",
    "MongoDB: `students.update_many({\"active\": {\"$exists\": False}}, {\"$set\": {\"active\": False}})`"
   ]
  },
  {
   "cell_type": "code",
   "execution_count": 30,
   "id": "1902bff9",
   "metadata": {},
   "outputs": [
    {
     "data": {
      "text/plain": [
       "UpdateResult({'n': 3, 'electionId': ObjectId('7fffffff0000000000000288'), 'opTime': {'ts': Timestamp(1708426874, 42), 't': 648}, 'nModified': 3, 'ok': 1.0, '$clusterTime': {'clusterTime': Timestamp(1708426874, 42), 'signature': {'hash': b'\\xd1\\x82\\xf1cT\\x18>\\\\\\x8bZ%\\x88\\xf8}\\x8d\\xe7\\xa1\\x0f1\\xd5', 'keyId': 7302022492913139713}}, 'operationTime': Timestamp(1708426874, 42), 'updatedExisting': True}, acknowledged=True)"
      ]
     },
     "execution_count": 30,
     "metadata": {},
     "output_type": "execute_result"
    }
   ],
   "source": [
    "db.students.update_many({\"active\": {\"$exists\": False}}, {\"$set\": {\"active\": False}})"
   ]
  },
  {
   "cell_type": "markdown",
   "id": "d727fc62",
   "metadata": {
    "slideshow": {
     "slide_type": "slide"
    }
   },
   "source": [
    "# DELETE"
   ]
  },
  {
   "cell_type": "markdown",
   "id": "df87e811",
   "metadata": {
    "slideshow": {
     "slide_type": "subslide"
    }
   },
   "source": [
    "PostgreSQL: `DELETE FROM students WHERE name = 'Adam';`\n",
    "<br>\n",
    "<br>\n",
    "MongoDB: `students.delete_one({\"name\": \"Adam\"})`"
   ]
  },
  {
   "cell_type": "code",
   "execution_count": null,
   "id": "f97c7ef6",
   "metadata": {},
   "outputs": [],
   "source": [
    "db.students.delete_one({\"name\": \"Adam\"})"
   ]
  },
  {
   "cell_type": "markdown",
   "id": "8ca818b9",
   "metadata": {
    "slideshow": {
     "slide_type": "subslide"
    }
   },
   "source": [
    "PostgreSQL: `DELETE FROM students WHERE active = FALSE;`\n",
    "<br>\n",
    "<br>\n",
    "MongoDB: `students.delete_many({\"active\": False})`"
   ]
  },
  {
   "cell_type": "code",
   "execution_count": null,
   "id": "5505c38e",
   "metadata": {},
   "outputs": [],
   "source": [
    "db.students.delete_many({\"active\": False})"
   ]
  },
  {
   "cell_type": "markdown",
   "id": "f6176e16",
   "metadata": {
    "slideshow": {
     "slide_type": "subslide"
    }
   },
   "source": [
    "PostgreSQL: ` DROP TABLE students_schema;`\n",
    "<br>\n",
    "<br>\n",
    "MongoDB: `students_schema.drop()`"
   ]
  },
  {
   "cell_type": "code",
   "execution_count": null,
   "id": "38260d7f",
   "metadata": {},
   "outputs": [],
   "source": [
    "db.students_schema.drop()"
   ]
  },
  {
   "cell_type": "markdown",
   "id": "0b521739",
   "metadata": {
    "slideshow": {
     "slide_type": "slide"
    }
   },
   "source": [
    "# INDEXES"
   ]
  },
  {
   "cell_type": "markdown",
   "id": "06a9e60b",
   "metadata": {
    "slideshow": {
     "slide_type": "subslide"
    }
   },
   "source": [
    "PostgreSQL: `EXPLAIN SELECT * FROM students WHERE name = 'Adam' and grade > 4;`\n",
    "<br>\n",
    "<br>\n",
    "MongoDB: `students.find({\"name\": \"Adam\", \"grade\": {\"$gt\": 4}}).explain()`"
   ]
  },
  {
   "cell_type": "code",
   "execution_count": 31,
   "id": "cb95e956",
   "metadata": {},
   "outputs": [
    {
     "data": {
      "text/plain": [
       "{'explainVersion': '1',\n",
       " 'queryPlanner': {'namespace': 'workshop_db.students',\n",
       "  'indexFilterSet': False,\n",
       "  'parsedQuery': {'$and': [{'name': {'$eq': 'Adam'}}, {'grade': {'$gt': 4}}]},\n",
       "  'queryHash': 'CFDE3782',\n",
       "  'planCacheKey': 'CFDE3782',\n",
       "  'maxIndexedOrSolutionsReached': False,\n",
       "  'maxIndexedAndSolutionsReached': False,\n",
       "  'maxScansToExplodeReached': False,\n",
       "  'winningPlan': {'stage': 'COLLSCAN',\n",
       "   'filter': {'$and': [{'name': {'$eq': 'Adam'}}, {'grade': {'$gt': 4}}]},\n",
       "   'direction': 'forward'},\n",
       "  'rejectedPlans': []},\n",
       " 'executionStats': {'executionSuccess': True,\n",
       "  'nReturned': 0,\n",
       "  'executionTimeMillis': 0,\n",
       "  'totalKeysExamined': 0,\n",
       "  'totalDocsExamined': 4,\n",
       "  'executionStages': {'stage': 'COLLSCAN',\n",
       "   'filter': {'$and': [{'name': {'$eq': 'Adam'}}, {'grade': {'$gt': 4}}]},\n",
       "   'nReturned': 0,\n",
       "   'executionTimeMillisEstimate': 0,\n",
       "   'works': 5,\n",
       "   'advanced': 0,\n",
       "   'needTime': 4,\n",
       "   'needYield': 0,\n",
       "   'saveState': 0,\n",
       "   'restoreState': 0,\n",
       "   'isEOF': 1,\n",
       "   'direction': 'forward',\n",
       "   'docsExamined': 4},\n",
       "  'allPlansExecution': []},\n",
       " 'command': {'find': 'students',\n",
       "  'filter': {'name': 'Adam', 'grade': {'$gt': 4}},\n",
       "  '$db': 'workshop_db'},\n",
       " 'serverInfo': {'host': 'ac-nh1busv-shard-00-01.gmfvfa0.mongodb.net',\n",
       "  'port': 27017,\n",
       "  'version': '6.0.13',\n",
       "  'gitVersion': '3b13907f9bdf6bd3264d67140d6c215d51bbd20c'},\n",
       " 'serverParameters': {'internalQueryFacetBufferSizeBytes': 104857600,\n",
       "  'internalQueryFacetMaxOutputDocSizeBytes': 104857600,\n",
       "  'internalLookupStageIntermediateDocumentMaxSizeBytes': 16793600,\n",
       "  'internalDocumentSourceGroupMaxMemoryBytes': 104857600,\n",
       "  'internalQueryMaxBlockingSortMemoryUsageBytes': 33554432,\n",
       "  'internalQueryProhibitBlockingMergeOnMongoS': 0,\n",
       "  'internalQueryMaxAddToSetBytes': 104857600,\n",
       "  'internalDocumentSourceSetWindowFieldsMaxMemoryBytes': 104857600},\n",
       " 'ok': 1.0,\n",
       " '$clusterTime': {'clusterTime': Timestamp(1708427010, 51),\n",
       "  'signature': {'hash': b\"\\xad\\x16J\\xdfLZ'\\xbc\\x0b\\x84\\xd3=\\xa2\\x80\\x15\\xf3\\x8c\\x1e~\\xfd\",\n",
       "   'keyId': 7302022492913139713}},\n",
       " 'operationTime': Timestamp(1708427010, 51)}"
      ]
     },
     "execution_count": 31,
     "metadata": {},
     "output_type": "execute_result"
    }
   ],
   "source": [
    "db.students.find({\"name\": \"Adam\", \"grade\": {\"$gt\": 4}}).explain()"
   ]
  },
  {
   "cell_type": "markdown",
   "id": "745bb30f",
   "metadata": {
    "slideshow": {
     "slide_type": "subslide"
    }
   },
   "source": [
    "PostgreSQL: `CREATE INDEX name_1 ON students (name);`\n",
    "<br>\n",
    "<br>\n",
    "MongoDB: `students.create_index({\"name\": 1})`"
   ]
  },
  {
   "cell_type": "code",
   "execution_count": 32,
   "id": "db520ad9",
   "metadata": {},
   "outputs": [
    {
     "data": {
      "text/plain": [
       "'name_1'"
      ]
     },
     "execution_count": 32,
     "metadata": {},
     "output_type": "execute_result"
    }
   ],
   "source": [
    "db.students.create_index({\"name\": 1})"
   ]
  },
  {
   "cell_type": "markdown",
   "id": "857e418b",
   "metadata": {
    "slideshow": {
     "slide_type": "subslide"
    }
   },
   "source": [
    "PostgreSQL: `EXPLAIN SELECT * FROM students WHERE name = 'Adam' and grade > 4;`\n",
    "<br>\n",
    "<br>\n",
    "MongoDB: `students.find({\"name\": \"Adam\", \"grade\": {\"$gt\": 4}}).explain()`"
   ]
  },
  {
   "cell_type": "code",
   "execution_count": 33,
   "id": "14d630c8",
   "metadata": {
    "scrolled": true
   },
   "outputs": [
    {
     "data": {
      "text/plain": [
       "{'explainVersion': '1',\n",
       " 'queryPlanner': {'namespace': 'workshop_db.students',\n",
       "  'indexFilterSet': False,\n",
       "  'parsedQuery': {'$and': [{'name': {'$eq': 'Adam'}}, {'grade': {'$gt': 4}}]},\n",
       "  'queryHash': 'CFDE3782',\n",
       "  'planCacheKey': '89214452',\n",
       "  'maxIndexedOrSolutionsReached': False,\n",
       "  'maxIndexedAndSolutionsReached': False,\n",
       "  'maxScansToExplodeReached': False,\n",
       "  'winningPlan': {'stage': 'FETCH',\n",
       "   'filter': {'grade': {'$gt': 4}},\n",
       "   'inputStage': {'stage': 'IXSCAN',\n",
       "    'keyPattern': {'name': 1},\n",
       "    'indexName': 'name_1',\n",
       "    'isMultiKey': False,\n",
       "    'multiKeyPaths': {'name': []},\n",
       "    'isUnique': False,\n",
       "    'isSparse': False,\n",
       "    'isPartial': False,\n",
       "    'indexVersion': 2,\n",
       "    'direction': 'forward',\n",
       "    'indexBounds': {'name': ['[\"Adam\", \"Adam\"]']}}},\n",
       "  'rejectedPlans': []},\n",
       " 'executionStats': {'executionSuccess': True,\n",
       "  'nReturned': 0,\n",
       "  'executionTimeMillis': 1,\n",
       "  'totalKeysExamined': 1,\n",
       "  'totalDocsExamined': 1,\n",
       "  'executionStages': {'stage': 'FETCH',\n",
       "   'filter': {'grade': {'$gt': 4}},\n",
       "   'nReturned': 0,\n",
       "   'executionTimeMillisEstimate': 0,\n",
       "   'works': 2,\n",
       "   'advanced': 0,\n",
       "   'needTime': 1,\n",
       "   'needYield': 0,\n",
       "   'saveState': 0,\n",
       "   'restoreState': 0,\n",
       "   'isEOF': 1,\n",
       "   'docsExamined': 1,\n",
       "   'alreadyHasObj': 0,\n",
       "   'inputStage': {'stage': 'IXSCAN',\n",
       "    'nReturned': 1,\n",
       "    'executionTimeMillisEstimate': 0,\n",
       "    'works': 2,\n",
       "    'advanced': 1,\n",
       "    'needTime': 0,\n",
       "    'needYield': 0,\n",
       "    'saveState': 0,\n",
       "    'restoreState': 0,\n",
       "    'isEOF': 1,\n",
       "    'keyPattern': {'name': 1},\n",
       "    'indexName': 'name_1',\n",
       "    'isMultiKey': False,\n",
       "    'multiKeyPaths': {'name': []},\n",
       "    'isUnique': False,\n",
       "    'isSparse': False,\n",
       "    'isPartial': False,\n",
       "    'indexVersion': 2,\n",
       "    'direction': 'forward',\n",
       "    'indexBounds': {'name': ['[\"Adam\", \"Adam\"]']},\n",
       "    'keysExamined': 1,\n",
       "    'seeks': 1,\n",
       "    'dupsTested': 0,\n",
       "    'dupsDropped': 0}},\n",
       "  'allPlansExecution': []},\n",
       " 'command': {'find': 'students',\n",
       "  'filter': {'name': 'Adam', 'grade': {'$gt': 4}},\n",
       "  '$db': 'workshop_db'},\n",
       " 'serverInfo': {'host': 'ac-nh1busv-shard-00-01.gmfvfa0.mongodb.net',\n",
       "  'port': 27017,\n",
       "  'version': '6.0.13',\n",
       "  'gitVersion': '3b13907f9bdf6bd3264d67140d6c215d51bbd20c'},\n",
       " 'serverParameters': {'internalQueryFacetBufferSizeBytes': 104857600,\n",
       "  'internalQueryFacetMaxOutputDocSizeBytes': 104857600,\n",
       "  'internalLookupStageIntermediateDocumentMaxSizeBytes': 16793600,\n",
       "  'internalDocumentSourceGroupMaxMemoryBytes': 104857600,\n",
       "  'internalQueryMaxBlockingSortMemoryUsageBytes': 33554432,\n",
       "  'internalQueryProhibitBlockingMergeOnMongoS': 0,\n",
       "  'internalQueryMaxAddToSetBytes': 104857600,\n",
       "  'internalDocumentSourceSetWindowFieldsMaxMemoryBytes': 104857600},\n",
       " 'ok': 1.0,\n",
       " '$clusterTime': {'clusterTime': Timestamp(1708427073, 15),\n",
       "  'signature': {'hash': b'\\x00\\xa4\\xb59Q\\xfaXo{\\xc9\\xa4(\\xc2U\\xf6\\x96k\\xde\\x92\\xe3',\n",
       "   'keyId': 7302022492913139713}},\n",
       " 'operationTime': Timestamp(1708427073, 15)}"
      ]
     },
     "execution_count": 33,
     "metadata": {},
     "output_type": "execute_result"
    }
   ],
   "source": [
    "db.students.find({\"name\": \"Adam\", \"grade\": {\"$gt\": 4}}).explain()"
   ]
  },
  {
   "cell_type": "markdown",
   "id": "b36c516e",
   "metadata": {
    "slideshow": {
     "slide_type": "subslide"
    }
   },
   "source": [
    "PostgreSQL: `SELECT * FROM pg_indexes WHERE tablename = 'students';`\n",
    "<br>\n",
    "<br>\n",
    "MongoDB: `students.index_information()`"
   ]
  },
  {
   "cell_type": "code",
   "execution_count": 34,
   "id": "613c5638",
   "metadata": {},
   "outputs": [
    {
     "data": {
      "text/plain": [
       "{'_id_': {'v': 2, 'key': [('_id', 1)]},\n",
       " 'name_1': {'v': 2, 'key': [('name', 1)]}}"
      ]
     },
     "execution_count": 34,
     "metadata": {},
     "output_type": "execute_result"
    }
   ],
   "source": [
    "db.students.index_information()"
   ]
  },
  {
   "cell_type": "markdown",
   "id": "13d98d9e",
   "metadata": {
    "slideshow": {
     "slide_type": "notes"
    }
   },
   "source": [
    "# Relations"
   ]
  },
  {
   "cell_type": "markdown",
   "id": "edaef2a9",
   "metadata": {
    "slideshow": {
     "slide_type": "notes"
    }
   },
   "source": [
    "# Transactions"
   ]
  }
 ],
 "metadata": {
  "celltoolbar": "Slideshow",
  "kernelspec": {
   "display_name": "Python 3 (ipykernel)",
   "language": "python",
   "name": "python3"
  },
  "language_info": {
   "codemirror_mode": {
    "name": "ipython",
    "version": 3
   },
   "file_extension": ".py",
   "mimetype": "text/x-python",
   "name": "python",
   "nbconvert_exporter": "python",
   "pygments_lexer": "ipython3",
   "version": "3.9.7"
  },
  "rise": {
   "scroll": true,
   "theme": "sky"
  }
 },
 "nbformat": 4,
 "nbformat_minor": 5
}
